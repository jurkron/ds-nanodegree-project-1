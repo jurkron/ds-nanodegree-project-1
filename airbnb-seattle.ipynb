{
 "cells": [
  {
   "cell_type": "markdown",
   "id": "16de60eb",
   "metadata": {},
   "source": [
    "# Business Understanding\n",
    "\n",
    "This notebook is using a dataset from AirBnb activities in Seattle. AirBnb is a company that give people the opportunity to rent an accommodation. Therefore it is interesting to see what is a good price.\n",
    "\n",
    "In this notebook I'm going to answer the following questions:\n",
    "\n",
    "    1. What is the price proportion in Seattle?\n",
    "    2. Are there features that influences the price?\n",
    "    3. Which features influence the price at most?"
   ]
  },
  {
   "cell_type": "markdown",
   "id": "e28be043",
   "metadata": {},
   "source": [
    "# Import the libraries"
   ]
  },
  {
   "cell_type": "code",
   "execution_count": 1,
   "id": "538ab631",
   "metadata": {},
   "outputs": [],
   "source": [
    "import numpy as np\n",
    "import pandas as pd\n",
    "import matplotlib.pyplot as plt\n",
    "from sklearn.linear_model import LinearRegression\n",
    "from sklearn.model_selection import train_test_split\n",
    "from sklearn.metrics import r2_score, mean_squared_error\n",
    "import seaborn as sns\n",
    "%matplotlib inline\n"
   ]
  },
  {
   "cell_type": "markdown",
   "id": "3c6d3efc",
   "metadata": {},
   "source": [
    "# Data Understanding\n",
    "\n",
    "In this part I'm going to load the data into the notebook and get familiar with the data by checking my dataframe. What is the size of the dataframe and which features contains the dataframe. What columns need to be migrated?"
   ]
  },
  {
   "cell_type": "code",
   "execution_count": 2,
   "id": "5f079b72",
   "metadata": {},
   "outputs": [
    {
     "data": {
      "text/html": [
       "<div>\n",
       "<style scoped>\n",
       "    .dataframe tbody tr th:only-of-type {\n",
       "        vertical-align: middle;\n",
       "    }\n",
       "\n",
       "    .dataframe tbody tr th {\n",
       "        vertical-align: top;\n",
       "    }\n",
       "\n",
       "    .dataframe thead th {\n",
       "        text-align: right;\n",
       "    }\n",
       "</style>\n",
       "<table border=\"1\" class=\"dataframe\">\n",
       "  <thead>\n",
       "    <tr style=\"text-align: right;\">\n",
       "      <th></th>\n",
       "      <th>id</th>\n",
       "      <th>listing_url</th>\n",
       "      <th>scrape_id</th>\n",
       "      <th>last_scraped</th>\n",
       "      <th>name</th>\n",
       "      <th>summary</th>\n",
       "      <th>space</th>\n",
       "      <th>description</th>\n",
       "      <th>experiences_offered</th>\n",
       "      <th>neighborhood_overview</th>\n",
       "      <th>...</th>\n",
       "      <th>review_scores_value</th>\n",
       "      <th>requires_license</th>\n",
       "      <th>license</th>\n",
       "      <th>jurisdiction_names</th>\n",
       "      <th>instant_bookable</th>\n",
       "      <th>cancellation_policy</th>\n",
       "      <th>require_guest_profile_picture</th>\n",
       "      <th>require_guest_phone_verification</th>\n",
       "      <th>calculated_host_listings_count</th>\n",
       "      <th>reviews_per_month</th>\n",
       "    </tr>\n",
       "  </thead>\n",
       "  <tbody>\n",
       "    <tr>\n",
       "      <th>0</th>\n",
       "      <td>241032</td>\n",
       "      <td>https://www.airbnb.com/rooms/241032</td>\n",
       "      <td>20160104002432</td>\n",
       "      <td>2016-01-04</td>\n",
       "      <td>Stylish Queen Anne Apartment</td>\n",
       "      <td>NaN</td>\n",
       "      <td>Make your self at home in this charming one-be...</td>\n",
       "      <td>Make your self at home in this charming one-be...</td>\n",
       "      <td>none</td>\n",
       "      <td>NaN</td>\n",
       "      <td>...</td>\n",
       "      <td>10.0</td>\n",
       "      <td>f</td>\n",
       "      <td>NaN</td>\n",
       "      <td>WASHINGTON</td>\n",
       "      <td>f</td>\n",
       "      <td>moderate</td>\n",
       "      <td>f</td>\n",
       "      <td>f</td>\n",
       "      <td>2</td>\n",
       "      <td>4.07</td>\n",
       "    </tr>\n",
       "    <tr>\n",
       "      <th>1</th>\n",
       "      <td>953595</td>\n",
       "      <td>https://www.airbnb.com/rooms/953595</td>\n",
       "      <td>20160104002432</td>\n",
       "      <td>2016-01-04</td>\n",
       "      <td>Bright &amp; Airy Queen Anne Apartment</td>\n",
       "      <td>Chemically sensitive? We've removed the irrita...</td>\n",
       "      <td>Beautiful, hypoallergenic apartment in an extr...</td>\n",
       "      <td>Chemically sensitive? We've removed the irrita...</td>\n",
       "      <td>none</td>\n",
       "      <td>Queen Anne is a wonderful, truly functional vi...</td>\n",
       "      <td>...</td>\n",
       "      <td>10.0</td>\n",
       "      <td>f</td>\n",
       "      <td>NaN</td>\n",
       "      <td>WASHINGTON</td>\n",
       "      <td>f</td>\n",
       "      <td>strict</td>\n",
       "      <td>t</td>\n",
       "      <td>t</td>\n",
       "      <td>6</td>\n",
       "      <td>1.48</td>\n",
       "    </tr>\n",
       "    <tr>\n",
       "      <th>2</th>\n",
       "      <td>3308979</td>\n",
       "      <td>https://www.airbnb.com/rooms/3308979</td>\n",
       "      <td>20160104002432</td>\n",
       "      <td>2016-01-04</td>\n",
       "      <td>New Modern House-Amazing water view</td>\n",
       "      <td>New modern house built in 2013.  Spectacular s...</td>\n",
       "      <td>Our house is modern, light and fresh with a wa...</td>\n",
       "      <td>New modern house built in 2013.  Spectacular s...</td>\n",
       "      <td>none</td>\n",
       "      <td>Upper Queen Anne is a charming neighborhood fu...</td>\n",
       "      <td>...</td>\n",
       "      <td>10.0</td>\n",
       "      <td>f</td>\n",
       "      <td>NaN</td>\n",
       "      <td>WASHINGTON</td>\n",
       "      <td>f</td>\n",
       "      <td>strict</td>\n",
       "      <td>f</td>\n",
       "      <td>f</td>\n",
       "      <td>2</td>\n",
       "      <td>1.15</td>\n",
       "    </tr>\n",
       "    <tr>\n",
       "      <th>3</th>\n",
       "      <td>7421966</td>\n",
       "      <td>https://www.airbnb.com/rooms/7421966</td>\n",
       "      <td>20160104002432</td>\n",
       "      <td>2016-01-04</td>\n",
       "      <td>Queen Anne Chateau</td>\n",
       "      <td>A charming apartment that sits atop Queen Anne...</td>\n",
       "      <td>NaN</td>\n",
       "      <td>A charming apartment that sits atop Queen Anne...</td>\n",
       "      <td>none</td>\n",
       "      <td>NaN</td>\n",
       "      <td>...</td>\n",
       "      <td>NaN</td>\n",
       "      <td>f</td>\n",
       "      <td>NaN</td>\n",
       "      <td>WASHINGTON</td>\n",
       "      <td>f</td>\n",
       "      <td>flexible</td>\n",
       "      <td>f</td>\n",
       "      <td>f</td>\n",
       "      <td>1</td>\n",
       "      <td>NaN</td>\n",
       "    </tr>\n",
       "    <tr>\n",
       "      <th>4</th>\n",
       "      <td>278830</td>\n",
       "      <td>https://www.airbnb.com/rooms/278830</td>\n",
       "      <td>20160104002432</td>\n",
       "      <td>2016-01-04</td>\n",
       "      <td>Charming craftsman 3 bdm house</td>\n",
       "      <td>Cozy family craftman house in beautiful neighb...</td>\n",
       "      <td>Cozy family craftman house in beautiful neighb...</td>\n",
       "      <td>Cozy family craftman house in beautiful neighb...</td>\n",
       "      <td>none</td>\n",
       "      <td>We are in the beautiful neighborhood of Queen ...</td>\n",
       "      <td>...</td>\n",
       "      <td>9.0</td>\n",
       "      <td>f</td>\n",
       "      <td>NaN</td>\n",
       "      <td>WASHINGTON</td>\n",
       "      <td>f</td>\n",
       "      <td>strict</td>\n",
       "      <td>f</td>\n",
       "      <td>f</td>\n",
       "      <td>1</td>\n",
       "      <td>0.89</td>\n",
       "    </tr>\n",
       "  </tbody>\n",
       "</table>\n",
       "<p>5 rows × 92 columns</p>\n",
       "</div>"
      ],
      "text/plain": [
       "        id                           listing_url       scrape_id last_scraped  \\\n",
       "0   241032   https://www.airbnb.com/rooms/241032  20160104002432   2016-01-04   \n",
       "1   953595   https://www.airbnb.com/rooms/953595  20160104002432   2016-01-04   \n",
       "2  3308979  https://www.airbnb.com/rooms/3308979  20160104002432   2016-01-04   \n",
       "3  7421966  https://www.airbnb.com/rooms/7421966  20160104002432   2016-01-04   \n",
       "4   278830   https://www.airbnb.com/rooms/278830  20160104002432   2016-01-04   \n",
       "\n",
       "                                  name  \\\n",
       "0         Stylish Queen Anne Apartment   \n",
       "1   Bright & Airy Queen Anne Apartment   \n",
       "2  New Modern House-Amazing water view   \n",
       "3                   Queen Anne Chateau   \n",
       "4       Charming craftsman 3 bdm house   \n",
       "\n",
       "                                             summary  \\\n",
       "0                                                NaN   \n",
       "1  Chemically sensitive? We've removed the irrita...   \n",
       "2  New modern house built in 2013.  Spectacular s...   \n",
       "3  A charming apartment that sits atop Queen Anne...   \n",
       "4  Cozy family craftman house in beautiful neighb...   \n",
       "\n",
       "                                               space  \\\n",
       "0  Make your self at home in this charming one-be...   \n",
       "1  Beautiful, hypoallergenic apartment in an extr...   \n",
       "2  Our house is modern, light and fresh with a wa...   \n",
       "3                                                NaN   \n",
       "4  Cozy family craftman house in beautiful neighb...   \n",
       "\n",
       "                                         description experiences_offered  \\\n",
       "0  Make your self at home in this charming one-be...                none   \n",
       "1  Chemically sensitive? We've removed the irrita...                none   \n",
       "2  New modern house built in 2013.  Spectacular s...                none   \n",
       "3  A charming apartment that sits atop Queen Anne...                none   \n",
       "4  Cozy family craftman house in beautiful neighb...                none   \n",
       "\n",
       "                               neighborhood_overview  ... review_scores_value  \\\n",
       "0                                                NaN  ...                10.0   \n",
       "1  Queen Anne is a wonderful, truly functional vi...  ...                10.0   \n",
       "2  Upper Queen Anne is a charming neighborhood fu...  ...                10.0   \n",
       "3                                                NaN  ...                 NaN   \n",
       "4  We are in the beautiful neighborhood of Queen ...  ...                 9.0   \n",
       "\n",
       "  requires_license license jurisdiction_names instant_bookable  \\\n",
       "0                f     NaN         WASHINGTON                f   \n",
       "1                f     NaN         WASHINGTON                f   \n",
       "2                f     NaN         WASHINGTON                f   \n",
       "3                f     NaN         WASHINGTON                f   \n",
       "4                f     NaN         WASHINGTON                f   \n",
       "\n",
       "  cancellation_policy  require_guest_profile_picture  \\\n",
       "0            moderate                              f   \n",
       "1              strict                              t   \n",
       "2              strict                              f   \n",
       "3            flexible                              f   \n",
       "4              strict                              f   \n",
       "\n",
       "  require_guest_phone_verification calculated_host_listings_count  \\\n",
       "0                                f                              2   \n",
       "1                                t                              6   \n",
       "2                                f                              2   \n",
       "3                                f                              1   \n",
       "4                                f                              1   \n",
       "\n",
       "  reviews_per_month  \n",
       "0              4.07  \n",
       "1              1.48  \n",
       "2              1.15  \n",
       "3               NaN  \n",
       "4              0.89  \n",
       "\n",
       "[5 rows x 92 columns]"
      ]
     },
     "execution_count": 2,
     "metadata": {},
     "output_type": "execute_result"
    }
   ],
   "source": [
    "df = pd.read_csv('./seattle/listings.csv')\n",
    "df.head()"
   ]
  },
  {
   "cell_type": "code",
   "execution_count": 3,
   "id": "192bc018",
   "metadata": {},
   "outputs": [
    {
     "name": "stdout",
     "output_type": "stream",
     "text": [
      "Seattle listings dataset has a shape of  (3818, 92)\n"
     ]
    }
   ],
   "source": [
    "print('Seattle listings dataset has a shape of ', df.shape)"
   ]
  },
  {
   "cell_type": "markdown",
   "id": "bbf7d0e0",
   "metadata": {},
   "source": [
    "### Clean data set\n",
    "\n",
    "Search for missing values and drop columns that have only missing values. The df.info() shows, there is one columns called \"licence\" that can be savely removed due to no data. It also shows that there are no rows with only null values, so lets remove some not needed columns first."
   ]
  },
  {
   "cell_type": "code",
   "execution_count": 4,
   "id": "a288901d",
   "metadata": {},
   "outputs": [
    {
     "name": "stdout",
     "output_type": "stream",
     "text": [
      "Seattle listings dataset has a shape of  (3818, 91)\n"
     ]
    }
   ],
   "source": [
    "df.dropna(axis=1, how='all', inplace=True)\n",
    "print('Seattle listings dataset has a shape of ', df.shape)"
   ]
  },
  {
   "cell_type": "markdown",
   "id": "8bd6d997",
   "metadata": {},
   "source": [
    "Next searching for columns with unique values as they can be savely removed as well. Because I'm looking at the Seattle airbnb data only, I can remove columns like country, country_code and so on. If I would like to compare this dataset to another dataset from airbnb (for instance Berlin or Boston or what ever) I would not remove all of these rows."
   ]
  },
  {
   "cell_type": "code",
   "execution_count": 5,
   "id": "cb4fd5ec",
   "metadata": {},
   "outputs": [
    {
     "name": "stdout",
     "output_type": "stream",
     "text": [
      "Columns to remove that have only unique values:\n",
      "scrape_id\n",
      "last_scraped\n",
      "experiences_offered\n",
      "market\n",
      "country_code\n",
      "country\n",
      "has_availability\n",
      "calendar_last_scraped\n",
      "requires_license\n",
      "jurisdiction_names\n",
      "\n",
      "Seattle listings dataset has a shape of  (3818, 81)\n"
     ]
    }
   ],
   "source": [
    "print('Columns to remove that have only unique values:')\n",
    "cols_unique = []\n",
    "for col in df.columns:\n",
    "    if df[col].value_counts().size == 1:\n",
    "        cols_unique.append(col)\n",
    "        print(col)\n",
    "df.drop(columns=cols_unique, inplace=True)\n",
    "print('\\nSeattle listings dataset has a shape of ', df.shape)"
   ]
  },
  {
   "cell_type": "markdown",
   "id": "13e36327",
   "metadata": {},
   "source": [
    "### Modifying data\n",
    "\n",
    "There are columns that have the wrong data type. All columns that contains price information needs to be converted into columns of type float. "
   ]
  },
  {
   "cell_type": "code",
   "execution_count": 6,
   "id": "b64266fb",
   "metadata": {},
   "outputs": [
    {
     "data": {
      "text/html": [
       "<div>\n",
       "<style scoped>\n",
       "    .dataframe tbody tr th:only-of-type {\n",
       "        vertical-align: middle;\n",
       "    }\n",
       "\n",
       "    .dataframe tbody tr th {\n",
       "        vertical-align: top;\n",
       "    }\n",
       "\n",
       "    .dataframe thead th {\n",
       "        text-align: right;\n",
       "    }\n",
       "</style>\n",
       "<table border=\"1\" class=\"dataframe\">\n",
       "  <thead>\n",
       "    <tr style=\"text-align: right;\">\n",
       "      <th></th>\n",
       "      <th>price</th>\n",
       "      <th>weekly_price</th>\n",
       "      <th>monthly_price</th>\n",
       "      <th>security_deposit</th>\n",
       "      <th>cleaning_fee</th>\n",
       "      <th>extra_people</th>\n",
       "    </tr>\n",
       "  </thead>\n",
       "  <tbody>\n",
       "    <tr>\n",
       "      <th>0</th>\n",
       "      <td>$85.00</td>\n",
       "      <td>NaN</td>\n",
       "      <td>NaN</td>\n",
       "      <td>NaN</td>\n",
       "      <td>NaN</td>\n",
       "      <td>$5.00</td>\n",
       "    </tr>\n",
       "    <tr>\n",
       "      <th>1</th>\n",
       "      <td>$150.00</td>\n",
       "      <td>$1,000.00</td>\n",
       "      <td>$3,000.00</td>\n",
       "      <td>$100.00</td>\n",
       "      <td>$40.00</td>\n",
       "      <td>$0.00</td>\n",
       "    </tr>\n",
       "    <tr>\n",
       "      <th>2</th>\n",
       "      <td>$975.00</td>\n",
       "      <td>NaN</td>\n",
       "      <td>NaN</td>\n",
       "      <td>$1,000.00</td>\n",
       "      <td>$300.00</td>\n",
       "      <td>$25.00</td>\n",
       "    </tr>\n",
       "    <tr>\n",
       "      <th>3</th>\n",
       "      <td>$100.00</td>\n",
       "      <td>$650.00</td>\n",
       "      <td>$2,300.00</td>\n",
       "      <td>NaN</td>\n",
       "      <td>NaN</td>\n",
       "      <td>$0.00</td>\n",
       "    </tr>\n",
       "    <tr>\n",
       "      <th>4</th>\n",
       "      <td>$450.00</td>\n",
       "      <td>NaN</td>\n",
       "      <td>NaN</td>\n",
       "      <td>$700.00</td>\n",
       "      <td>$125.00</td>\n",
       "      <td>$15.00</td>\n",
       "    </tr>\n",
       "  </tbody>\n",
       "</table>\n",
       "</div>"
      ],
      "text/plain": [
       "     price weekly_price monthly_price security_deposit cleaning_fee  \\\n",
       "0   $85.00          NaN           NaN              NaN          NaN   \n",
       "1  $150.00    $1,000.00     $3,000.00          $100.00       $40.00   \n",
       "2  $975.00          NaN           NaN        $1,000.00      $300.00   \n",
       "3  $100.00      $650.00     $2,300.00              NaN          NaN   \n",
       "4  $450.00          NaN           NaN          $700.00      $125.00   \n",
       "\n",
       "  extra_people  \n",
       "0        $5.00  \n",
       "1        $0.00  \n",
       "2       $25.00  \n",
       "3        $0.00  \n",
       "4       $15.00  "
      ]
     },
     "execution_count": 6,
     "metadata": {},
     "output_type": "execute_result"
    }
   ],
   "source": [
    "cols_with_prices = ['price','weekly_price','monthly_price','security_deposit','cleaning_fee','extra_people']\n",
    "df[cols_with_prices].head()"
   ]
  },
  {
   "cell_type": "code",
   "execution_count": 7,
   "id": "bd037233",
   "metadata": {},
   "outputs": [
    {
     "data": {
      "text/html": [
       "<div>\n",
       "<style scoped>\n",
       "    .dataframe tbody tr th:only-of-type {\n",
       "        vertical-align: middle;\n",
       "    }\n",
       "\n",
       "    .dataframe tbody tr th {\n",
       "        vertical-align: top;\n",
       "    }\n",
       "\n",
       "    .dataframe thead th {\n",
       "        text-align: right;\n",
       "    }\n",
       "</style>\n",
       "<table border=\"1\" class=\"dataframe\">\n",
       "  <thead>\n",
       "    <tr style=\"text-align: right;\">\n",
       "      <th></th>\n",
       "      <th>price</th>\n",
       "      <th>weekly_price</th>\n",
       "      <th>monthly_price</th>\n",
       "      <th>security_deposit</th>\n",
       "      <th>cleaning_fee</th>\n",
       "      <th>extra_people</th>\n",
       "    </tr>\n",
       "  </thead>\n",
       "  <tbody>\n",
       "    <tr>\n",
       "      <th>0</th>\n",
       "      <td>85.0</td>\n",
       "      <td>NaN</td>\n",
       "      <td>NaN</td>\n",
       "      <td>NaN</td>\n",
       "      <td>NaN</td>\n",
       "      <td>5.0</td>\n",
       "    </tr>\n",
       "    <tr>\n",
       "      <th>1</th>\n",
       "      <td>150.0</td>\n",
       "      <td>1000.0</td>\n",
       "      <td>3000.0</td>\n",
       "      <td>100.0</td>\n",
       "      <td>40.0</td>\n",
       "      <td>0.0</td>\n",
       "    </tr>\n",
       "    <tr>\n",
       "      <th>2</th>\n",
       "      <td>975.0</td>\n",
       "      <td>NaN</td>\n",
       "      <td>NaN</td>\n",
       "      <td>1000.0</td>\n",
       "      <td>300.0</td>\n",
       "      <td>25.0</td>\n",
       "    </tr>\n",
       "    <tr>\n",
       "      <th>3</th>\n",
       "      <td>100.0</td>\n",
       "      <td>650.0</td>\n",
       "      <td>2300.0</td>\n",
       "      <td>NaN</td>\n",
       "      <td>NaN</td>\n",
       "      <td>0.0</td>\n",
       "    </tr>\n",
       "    <tr>\n",
       "      <th>4</th>\n",
       "      <td>450.0</td>\n",
       "      <td>NaN</td>\n",
       "      <td>NaN</td>\n",
       "      <td>700.0</td>\n",
       "      <td>125.0</td>\n",
       "      <td>15.0</td>\n",
       "    </tr>\n",
       "  </tbody>\n",
       "</table>\n",
       "</div>"
      ],
      "text/plain": [
       "   price  weekly_price  monthly_price  security_deposit  cleaning_fee  \\\n",
       "0   85.0           NaN            NaN               NaN           NaN   \n",
       "1  150.0        1000.0         3000.0             100.0          40.0   \n",
       "2  975.0           NaN            NaN            1000.0         300.0   \n",
       "3  100.0         650.0         2300.0               NaN           NaN   \n",
       "4  450.0           NaN            NaN             700.0         125.0   \n",
       "\n",
       "   extra_people  \n",
       "0           5.0  \n",
       "1           0.0  \n",
       "2          25.0  \n",
       "3           0.0  \n",
       "4          15.0  "
      ]
     },
     "execution_count": 7,
     "metadata": {},
     "output_type": "execute_result"
    }
   ],
   "source": [
    "for col in cols_with_prices:\n",
    "    df[col] = df[col].replace({'\\$': '', ',': ''}, regex=True).astype(float)\n",
    "    \n",
    "df[cols_with_prices].head()"
   ]
  },
  {
   "cell_type": "markdown",
   "id": "80635e3a",
   "metadata": {},
   "source": [
    "Also there are 2 column called \"\\_rate\" that should be converted into numeric columns."
   ]
  },
  {
   "cell_type": "code",
   "execution_count": 8,
   "id": "b57a342b",
   "metadata": {},
   "outputs": [
    {
     "data": {
      "text/html": [
       "<div>\n",
       "<style scoped>\n",
       "    .dataframe tbody tr th:only-of-type {\n",
       "        vertical-align: middle;\n",
       "    }\n",
       "\n",
       "    .dataframe tbody tr th {\n",
       "        vertical-align: top;\n",
       "    }\n",
       "\n",
       "    .dataframe thead th {\n",
       "        text-align: right;\n",
       "    }\n",
       "</style>\n",
       "<table border=\"1\" class=\"dataframe\">\n",
       "  <thead>\n",
       "    <tr style=\"text-align: right;\">\n",
       "      <th></th>\n",
       "      <th>host_response_rate</th>\n",
       "      <th>host_acceptance_rate</th>\n",
       "    </tr>\n",
       "  </thead>\n",
       "  <tbody>\n",
       "    <tr>\n",
       "      <th>0</th>\n",
       "      <td>96%</td>\n",
       "      <td>100%</td>\n",
       "    </tr>\n",
       "    <tr>\n",
       "      <th>1</th>\n",
       "      <td>98%</td>\n",
       "      <td>100%</td>\n",
       "    </tr>\n",
       "    <tr>\n",
       "      <th>2</th>\n",
       "      <td>67%</td>\n",
       "      <td>100%</td>\n",
       "    </tr>\n",
       "    <tr>\n",
       "      <th>3</th>\n",
       "      <td>NaN</td>\n",
       "      <td>NaN</td>\n",
       "    </tr>\n",
       "    <tr>\n",
       "      <th>4</th>\n",
       "      <td>100%</td>\n",
       "      <td>NaN</td>\n",
       "    </tr>\n",
       "  </tbody>\n",
       "</table>\n",
       "</div>"
      ],
      "text/plain": [
       "  host_response_rate host_acceptance_rate\n",
       "0                96%                 100%\n",
       "1                98%                 100%\n",
       "2                67%                 100%\n",
       "3                NaN                  NaN\n",
       "4               100%                  NaN"
      ]
     },
     "execution_count": 8,
     "metadata": {},
     "output_type": "execute_result"
    }
   ],
   "source": [
    "cols_with_rates = ['host_response_rate', 'host_acceptance_rate']\n",
    "df[cols_with_rates].head()"
   ]
  },
  {
   "cell_type": "code",
   "execution_count": 9,
   "id": "be33936a",
   "metadata": {},
   "outputs": [
    {
     "data": {
      "text/html": [
       "<div>\n",
       "<style scoped>\n",
       "    .dataframe tbody tr th:only-of-type {\n",
       "        vertical-align: middle;\n",
       "    }\n",
       "\n",
       "    .dataframe tbody tr th {\n",
       "        vertical-align: top;\n",
       "    }\n",
       "\n",
       "    .dataframe thead th {\n",
       "        text-align: right;\n",
       "    }\n",
       "</style>\n",
       "<table border=\"1\" class=\"dataframe\">\n",
       "  <thead>\n",
       "    <tr style=\"text-align: right;\">\n",
       "      <th></th>\n",
       "      <th>host_response_rate</th>\n",
       "      <th>host_acceptance_rate</th>\n",
       "    </tr>\n",
       "  </thead>\n",
       "  <tbody>\n",
       "    <tr>\n",
       "      <th>0</th>\n",
       "      <td>96.0</td>\n",
       "      <td>100.0</td>\n",
       "    </tr>\n",
       "    <tr>\n",
       "      <th>1</th>\n",
       "      <td>98.0</td>\n",
       "      <td>100.0</td>\n",
       "    </tr>\n",
       "    <tr>\n",
       "      <th>2</th>\n",
       "      <td>67.0</td>\n",
       "      <td>100.0</td>\n",
       "    </tr>\n",
       "    <tr>\n",
       "      <th>3</th>\n",
       "      <td>NaN</td>\n",
       "      <td>NaN</td>\n",
       "    </tr>\n",
       "    <tr>\n",
       "      <th>4</th>\n",
       "      <td>100.0</td>\n",
       "      <td>NaN</td>\n",
       "    </tr>\n",
       "  </tbody>\n",
       "</table>\n",
       "</div>"
      ],
      "text/plain": [
       "   host_response_rate  host_acceptance_rate\n",
       "0                96.0                 100.0\n",
       "1                98.0                 100.0\n",
       "2                67.0                 100.0\n",
       "3                 NaN                   NaN\n",
       "4               100.0                   NaN"
      ]
     },
     "execution_count": 9,
     "metadata": {},
     "output_type": "execute_result"
    }
   ],
   "source": [
    "for col in cols_with_rates:\n",
    "    df[col] = df[col].replace({'\\%': ''}, regex=True).astype(float)\n",
    "    \n",
    "df[cols_with_rates].head()"
   ]
  },
  {
   "cell_type": "markdown",
   "id": "acb263ba",
   "metadata": {},
   "source": [
    "Now we are able to plot a histogram that show the proportion of the price over the dataset."
   ]
  },
  {
   "cell_type": "markdown",
   "id": "75088c33",
   "metadata": {},
   "source": [
    "### Questions: What is the price proportion in Seattle?\n",
    "\n",
    "With the first question I'm looking at the common price for one night in Seattle. This price gives me a feeling of what offers are common, cheap or quite expensive."
   ]
  },
  {
   "cell_type": "code",
   "execution_count": 10,
   "id": "8f89e1c4",
   "metadata": {},
   "outputs": [
    {
     "data": {
      "text/plain": [
       "<AxesSubplot:>"
      ]
     },
     "execution_count": 10,
     "metadata": {},
     "output_type": "execute_result"
    },
    {
     "data": {
      "image/png": "[encoded data removed]",
      "text/plain": [
       "<Figure size 432x288 with 1 Axes>"
      ]
     },
     "metadata": {
      "needs_background": "light"
     },
     "output_type": "display_data"
    }
   ],
   "source": [
    "df['price'].hist(legend=True)"
   ]
  },
  {
   "cell_type": "markdown",
   "id": "7c21bbb5",
   "metadata": {},
   "source": [
    "As we can see most prices are between nearly nothing and 200 dollar."
   ]
  },
  {
   "cell_type": "code",
   "execution_count": 11,
   "id": "835eed3b",
   "metadata": {},
   "outputs": [
    {
     "data": {
      "text/plain": [
       "<AxesSubplot:>"
      ]
     },
     "execution_count": 11,
     "metadata": {},
     "output_type": "execute_result"
    },
    {
     "data": {
      "image/png": "[encoded data removed]",
      "text/plain": [
       "<Figure size 432x288 with 1 Axes>"
      ]
     },
     "metadata": {
      "needs_background": "light"
     },
     "output_type": "display_data"
    }
   ],
   "source": [
    "price_lower_150 = df[df['price'] < 200]\n",
    "price_lower_150['price'].hist(bins=20, legend=True)"
   ]
  },
  {
   "cell_type": "markdown",
   "id": "b806755b",
   "metadata": {},
   "source": [
    "When we look in that range in more detail we get a peak at around 100 dollar."
   ]
  },
  {
   "cell_type": "markdown",
   "id": "969a22d5",
   "metadata": {},
   "source": [
    "### Answer: What is the price proportion in Seattle?\n",
    "\n",
    "As we can see in the plots above the average price per night in Seattle is something between 50 and 100 dollar, where 100 dollar is a quite common price. \n"
   ]
  },
  {
   "cell_type": "markdown",
   "id": "771b081d",
   "metadata": {},
   "source": [
    "### Question 2: Are there features that influences the price?\n",
    "\n",
    "In question 1 we have seen that 100 dollar is a quite common price for one night in Seattle. In question 2 I'm looking at some features to get a clearer view of the composition of a price. "
   ]
  },
  {
   "cell_type": "code",
   "execution_count": 12,
   "id": "2403e63d",
   "metadata": {},
   "outputs": [],
   "source": [
    "def plot_mean_price_for_feature(feature, sortBy, asc=False):\n",
    "    '''\n",
    "    INPUT\n",
    "    feature - a name of a feature (name of a column from the dataset)\n",
    "    sortBy - name of the column of the inner dataset to sort on, it could be the feature, 'mean_price' or 'count'\n",
    "    asc - True or False if sorting is ascending (default=False)\n",
    "    \n",
    "    OUTPUT\n",
    "    Plots diagrams for mean_price and count for the given feature.\n",
    "    '''\n",
    "    feature_df = pd.DataFrame(columns=[feature, 'mean_price', 'count'])\n",
    "    for value in df[feature].value_counts().keys():\n",
    "        feature_df = feature_df.append({feature: value, \n",
    "                             'mean_price': df[df[feature]==value]['price'].mean(),\n",
    "                             'count': df[df[feature]==value]['price'].count()\n",
    "                            }, ignore_index=True)\n",
    "    feature_df = feature_df.sort_values(by=[sortBy], ascending=asc)\n",
    "    feature_df.plot(x=feature, kind='bar', legend=False, subplots=True);\n",
    "    plt.show()\n",
    "        "
   ]
  },
  {
   "cell_type": "code",
   "execution_count": 13,
   "id": "8ea1464a",
   "metadata": {},
   "outputs": [
    {
     "data": {
      "image/png": "[encoded data removed]",
      "text/plain": [
       "<Figure size 432x288 with 2 Axes>"
      ]
     },
     "metadata": {
      "needs_background": "light"
     },
     "output_type": "display_data"
    },
    {
     "data": {
      "image/png": "[encoded data removed]",
      "text/plain": [
       "<Figure size 432x288 with 2 Axes>"
      ]
     },
     "metadata": {
      "needs_background": "light"
     },
     "output_type": "display_data"
    },
    {
     "data": {
      "image/png": "[encoded data removed]",
      "text/plain": [
       "<Figure size 432x288 with 2 Axes>"
      ]
     },
     "metadata": {
      "needs_background": "light"
     },
     "output_type": "display_data"
    },
    {
     "data": {
      "image/png": "[encoded data removed]",
      "text/plain": [
       "<Figure size 432x288 with 2 Axes>"
      ]
     },
     "metadata": {
      "needs_background": "light"
     },
     "output_type": "display_data"
    }
   ],
   "source": [
    "plot_mean_price_for_feature('neighbourhood_group_cleansed', 'count')\n",
    "plot_mean_price_for_feature('room_type', 'count' )\n",
    "plot_mean_price_for_feature('review_scores_value', 'review_scores_value')\n",
    "plot_mean_price_for_feature('accommodates', 'accommodates', True)\n"
   ]
  },
  {
   "cell_type": "markdown",
   "id": "d1a9a92f",
   "metadata": {},
   "source": [
    "### Answer: Are there features that influences the price?\n",
    "\n",
    "From the above plots we can see, that the neighbourhood influences the price. Most of the accommodations are in Downtown, Capital Hill or Central Area, which means very central. In Downtown is the price much higher than in Capital Hill or Central Area. \n",
    "\n",
    "Looking at the features number of accommodates or room_type there is not really any surprise, both have an effect on the price in a usual way. The more accommodate the higher the price or an entire flat/appartment is more expensive than a private room.\n",
    "\n",
    "The review scores seems to have no influence on the price. The most scores are between 9 to 10. There is no relation between score and mean price."
   ]
  },
  {
   "cell_type": "markdown",
   "id": "1cbc168c",
   "metadata": {},
   "source": [
    "### Question 3: Which features influence the price at most?\n",
    "\n",
    "In question 2 we have learned there are features that influences the price and others that seems to have no influence on the price at all. \n",
    "\n",
    "In question 3 I want to know, which features influence the price at most. In order to answer this question I'll use a machine learning technique called regression. After preparing my dataset I will split it into train and test data. Then I will train a model using the training data and test my model on the test data set. If I find a model that works I can look at the coefficents that have an impact on the price. The larger the coefficent the larger the influence on the price. Can I confirm my answer from question 2?"
   ]
  },
  {
   "cell_type": "markdown",
   "id": "4c21beeb",
   "metadata": {},
   "source": [
    "# Prepare data\n",
    "\n",
    "In order to train a linear regression model I need a dataset with non null values. Remember I've already removed some features, which where useless to train a model. It was one columns with no value and 10 columns with only one unique value. I also migrated all the price or rate columns from object to float by removing the $ or \\% sign. Now I'm going to look at the other columns or features.\n",
    "\n",
    "First lets have a look at the categorical features. There are some more features that can be removed."
   ]
  },
  {
   "cell_type": "code",
   "execution_count": 14,
   "id": "d4b045d5",
   "metadata": {},
   "outputs": [],
   "source": [
    "def get_columns(df, dtype):\n",
    "    '''\n",
    "    INPUT\n",
    "    df - dataframe\n",
    "    dtype - name of the data type\n",
    "    \n",
    "    OUTPUT\n",
    "    Column names in the given dataframe with given dtype\n",
    "    '''\n",
    "    return df.select_dtypes(include=[dtype]).columns"
   ]
  },
  {
   "cell_type": "code",
   "execution_count": 15,
   "id": "9475c1ef",
   "metadata": {},
   "outputs": [],
   "source": [
    "def show_value_proportion(df, dtype):\n",
    "    '''\n",
    "    INPUT\n",
    "    df - dataframe\n",
    "    dtype - name of the data type\n",
    "    \n",
    "    OUTPUT\n",
    "    DataFrame showing names, number of notna, number of unique values and there percentage\n",
    "    \n",
    "    Create a dataframe which contains the name of the feature, the total number of values \n",
    "    for that feature, the number of unique values for that feature and a value how many values are unique. \n",
    "    '''\n",
    "    df_value = pd.DataFrame(columns=['name', 'notna values', 'unique values', 'percent unique values'])\n",
    "    for cat_feature in get_columns(df, dtype):\n",
    "        notna_values = df[cat_feature].notna().sum()\n",
    "        unique_values = df[cat_feature].value_counts().size\n",
    "        df_value = df_value.append({'name': cat_feature,\n",
    "                                               'notna values': notna_values,\n",
    "                                               'unique values': unique_values,\n",
    "                                               'percent unique values': unique_values/notna_values},\n",
    "                                              ignore_index=True)\n",
    "\n",
    "    df_value = df_value.sort_values(by=['percent unique values'], ascending=False)\n",
    "    return df_value\n"
   ]
  },
  {
   "cell_type": "code",
   "execution_count": 16,
   "id": "8feeb0b7",
   "metadata": {},
   "outputs": [
    {
     "data": {
      "text/html": [
       "<div>\n",
       "<style scoped>\n",
       "    .dataframe tbody tr th:only-of-type {\n",
       "        vertical-align: middle;\n",
       "    }\n",
       "\n",
       "    .dataframe tbody tr th {\n",
       "        vertical-align: top;\n",
       "    }\n",
       "\n",
       "    .dataframe thead th {\n",
       "        text-align: right;\n",
       "    }\n",
       "</style>\n",
       "<table border=\"1\" class=\"dataframe\">\n",
       "  <thead>\n",
       "    <tr style=\"text-align: right;\">\n",
       "      <th></th>\n",
       "      <th>name</th>\n",
       "      <th>notna values</th>\n",
       "      <th>unique values</th>\n",
       "      <th>percent unique values</th>\n",
       "    </tr>\n",
       "  </thead>\n",
       "  <tbody>\n",
       "    <tr>\n",
       "      <th>0</th>\n",
       "      <td>listing_url</td>\n",
       "      <td>3818</td>\n",
       "      <td>3818</td>\n",
       "      <td>1.000000</td>\n",
       "    </tr>\n",
       "    <tr>\n",
       "      <th>8</th>\n",
       "      <td>thumbnail_url</td>\n",
       "      <td>3498</td>\n",
       "      <td>3498</td>\n",
       "      <td>1.000000</td>\n",
       "    </tr>\n",
       "    <tr>\n",
       "      <th>10</th>\n",
       "      <td>picture_url</td>\n",
       "      <td>3818</td>\n",
       "      <td>3818</td>\n",
       "      <td>1.000000</td>\n",
       "    </tr>\n",
       "    <tr>\n",
       "      <th>9</th>\n",
       "      <td>medium_url</td>\n",
       "      <td>3498</td>\n",
       "      <td>3498</td>\n",
       "      <td>1.000000</td>\n",
       "    </tr>\n",
       "    <tr>\n",
       "      <th>11</th>\n",
       "      <td>xl_picture_url</td>\n",
       "      <td>3498</td>\n",
       "      <td>3498</td>\n",
       "      <td>1.000000</td>\n",
       "    </tr>\n",
       "    <tr>\n",
       "      <th>1</th>\n",
       "      <td>name</td>\n",
       "      <td>3818</td>\n",
       "      <td>3792</td>\n",
       "      <td>0.993190</td>\n",
       "    </tr>\n",
       "    <tr>\n",
       "      <th>4</th>\n",
       "      <td>description</td>\n",
       "      <td>3818</td>\n",
       "      <td>3742</td>\n",
       "      <td>0.980094</td>\n",
       "    </tr>\n",
       "    <tr>\n",
       "      <th>3</th>\n",
       "      <td>space</td>\n",
       "      <td>3249</td>\n",
       "      <td>3119</td>\n",
       "      <td>0.959988</td>\n",
       "    </tr>\n",
       "    <tr>\n",
       "      <th>2</th>\n",
       "      <td>summary</td>\n",
       "      <td>3641</td>\n",
       "      <td>3478</td>\n",
       "      <td>0.955232</td>\n",
       "    </tr>\n",
       "    <tr>\n",
       "      <th>6</th>\n",
       "      <td>notes</td>\n",
       "      <td>2212</td>\n",
       "      <td>1999</td>\n",
       "      <td>0.903707</td>\n",
       "    </tr>\n",
       "    <tr>\n",
       "      <th>5</th>\n",
       "      <td>neighborhood_overview</td>\n",
       "      <td>2786</td>\n",
       "      <td>2506</td>\n",
       "      <td>0.899497</td>\n",
       "    </tr>\n",
       "    <tr>\n",
       "      <th>7</th>\n",
       "      <td>transit</td>\n",
       "      <td>2884</td>\n",
       "      <td>2574</td>\n",
       "      <td>0.892510</td>\n",
       "    </tr>\n",
       "    <tr>\n",
       "      <th>37</th>\n",
       "      <td>amenities</td>\n",
       "      <td>3818</td>\n",
       "      <td>3284</td>\n",
       "      <td>0.860136</td>\n",
       "    </tr>\n",
       "    <tr>\n",
       "      <th>12</th>\n",
       "      <td>host_url</td>\n",
       "      <td>3818</td>\n",
       "      <td>2751</td>\n",
       "      <td>0.720534</td>\n",
       "    </tr>\n",
       "    <tr>\n",
       "      <th>19</th>\n",
       "      <td>host_thumbnail_url</td>\n",
       "      <td>3816</td>\n",
       "      <td>2743</td>\n",
       "      <td>0.718816</td>\n",
       "    </tr>\n",
       "    <tr>\n",
       "      <th>20</th>\n",
       "      <td>host_picture_url</td>\n",
       "      <td>3816</td>\n",
       "      <td>2743</td>\n",
       "      <td>0.718816</td>\n",
       "    </tr>\n",
       "    <tr>\n",
       "      <th>16</th>\n",
       "      <td>host_about</td>\n",
       "      <td>2959</td>\n",
       "      <td>2011</td>\n",
       "      <td>0.679621</td>\n",
       "    </tr>\n",
       "    <tr>\n",
       "      <th>13</th>\n",
       "      <td>host_name</td>\n",
       "      <td>3816</td>\n",
       "      <td>1466</td>\n",
       "      <td>0.384172</td>\n",
       "    </tr>\n",
       "    <tr>\n",
       "      <th>25</th>\n",
       "      <td>street</td>\n",
       "      <td>3818</td>\n",
       "      <td>1442</td>\n",
       "      <td>0.377685</td>\n",
       "    </tr>\n",
       "    <tr>\n",
       "      <th>14</th>\n",
       "      <td>host_since</td>\n",
       "      <td>3816</td>\n",
       "      <td>1380</td>\n",
       "      <td>0.361635</td>\n",
       "    </tr>\n",
       "    <tr>\n",
       "      <th>39</th>\n",
       "      <td>first_review</td>\n",
       "      <td>3191</td>\n",
       "      <td>984</td>\n",
       "      <td>0.308367</td>\n",
       "    </tr>\n",
       "    <tr>\n",
       "      <th>40</th>\n",
       "      <td>last_review</td>\n",
       "      <td>3191</td>\n",
       "      <td>321</td>\n",
       "      <td>0.100595</td>\n",
       "    </tr>\n",
       "    <tr>\n",
       "      <th>15</th>\n",
       "      <td>host_location</td>\n",
       "      <td>3810</td>\n",
       "      <td>120</td>\n",
       "      <td>0.031496</td>\n",
       "    </tr>\n",
       "    <tr>\n",
       "      <th>22</th>\n",
       "      <td>host_verifications</td>\n",
       "      <td>3818</td>\n",
       "      <td>116</td>\n",
       "      <td>0.030382</td>\n",
       "    </tr>\n",
       "    <tr>\n",
       "      <th>21</th>\n",
       "      <td>host_neighbourhood</td>\n",
       "      <td>3518</td>\n",
       "      <td>102</td>\n",
       "      <td>0.028994</td>\n",
       "    </tr>\n",
       "    <tr>\n",
       "      <th>26</th>\n",
       "      <td>neighbourhood</td>\n",
       "      <td>3402</td>\n",
       "      <td>81</td>\n",
       "      <td>0.023810</td>\n",
       "    </tr>\n",
       "    <tr>\n",
       "      <th>27</th>\n",
       "      <td>neighbourhood_cleansed</td>\n",
       "      <td>3818</td>\n",
       "      <td>87</td>\n",
       "      <td>0.022787</td>\n",
       "    </tr>\n",
       "    <tr>\n",
       "      <th>38</th>\n",
       "      <td>calendar_updated</td>\n",
       "      <td>3818</td>\n",
       "      <td>34</td>\n",
       "      <td>0.008905</td>\n",
       "    </tr>\n",
       "    <tr>\n",
       "      <th>31</th>\n",
       "      <td>zipcode</td>\n",
       "      <td>3811</td>\n",
       "      <td>28</td>\n",
       "      <td>0.007347</td>\n",
       "    </tr>\n",
       "    <tr>\n",
       "      <th>28</th>\n",
       "      <td>neighbourhood_group_cleansed</td>\n",
       "      <td>3818</td>\n",
       "      <td>17</td>\n",
       "      <td>0.004453</td>\n",
       "    </tr>\n",
       "    <tr>\n",
       "      <th>34</th>\n",
       "      <td>property_type</td>\n",
       "      <td>3817</td>\n",
       "      <td>16</td>\n",
       "      <td>0.004192</td>\n",
       "    </tr>\n",
       "    <tr>\n",
       "      <th>29</th>\n",
       "      <td>city</td>\n",
       "      <td>3818</td>\n",
       "      <td>7</td>\n",
       "      <td>0.001833</td>\n",
       "    </tr>\n",
       "    <tr>\n",
       "      <th>32</th>\n",
       "      <td>smart_location</td>\n",
       "      <td>3818</td>\n",
       "      <td>7</td>\n",
       "      <td>0.001833</td>\n",
       "    </tr>\n",
       "    <tr>\n",
       "      <th>36</th>\n",
       "      <td>bed_type</td>\n",
       "      <td>3818</td>\n",
       "      <td>5</td>\n",
       "      <td>0.001310</td>\n",
       "    </tr>\n",
       "    <tr>\n",
       "      <th>17</th>\n",
       "      <td>host_response_time</td>\n",
       "      <td>3295</td>\n",
       "      <td>4</td>\n",
       "      <td>0.001214</td>\n",
       "    </tr>\n",
       "    <tr>\n",
       "      <th>42</th>\n",
       "      <td>cancellation_policy</td>\n",
       "      <td>3818</td>\n",
       "      <td>3</td>\n",
       "      <td>0.000786</td>\n",
       "    </tr>\n",
       "    <tr>\n",
       "      <th>35</th>\n",
       "      <td>room_type</td>\n",
       "      <td>3818</td>\n",
       "      <td>3</td>\n",
       "      <td>0.000786</td>\n",
       "    </tr>\n",
       "    <tr>\n",
       "      <th>18</th>\n",
       "      <td>host_is_superhost</td>\n",
       "      <td>3816</td>\n",
       "      <td>2</td>\n",
       "      <td>0.000524</td>\n",
       "    </tr>\n",
       "    <tr>\n",
       "      <th>24</th>\n",
       "      <td>host_identity_verified</td>\n",
       "      <td>3816</td>\n",
       "      <td>2</td>\n",
       "      <td>0.000524</td>\n",
       "    </tr>\n",
       "    <tr>\n",
       "      <th>23</th>\n",
       "      <td>host_has_profile_pic</td>\n",
       "      <td>3816</td>\n",
       "      <td>2</td>\n",
       "      <td>0.000524</td>\n",
       "    </tr>\n",
       "    <tr>\n",
       "      <th>33</th>\n",
       "      <td>is_location_exact</td>\n",
       "      <td>3818</td>\n",
       "      <td>2</td>\n",
       "      <td>0.000524</td>\n",
       "    </tr>\n",
       "    <tr>\n",
       "      <th>41</th>\n",
       "      <td>instant_bookable</td>\n",
       "      <td>3818</td>\n",
       "      <td>2</td>\n",
       "      <td>0.000524</td>\n",
       "    </tr>\n",
       "    <tr>\n",
       "      <th>30</th>\n",
       "      <td>state</td>\n",
       "      <td>3818</td>\n",
       "      <td>2</td>\n",
       "      <td>0.000524</td>\n",
       "    </tr>\n",
       "    <tr>\n",
       "      <th>43</th>\n",
       "      <td>require_guest_profile_picture</td>\n",
       "      <td>3818</td>\n",
       "      <td>2</td>\n",
       "      <td>0.000524</td>\n",
       "    </tr>\n",
       "    <tr>\n",
       "      <th>44</th>\n",
       "      <td>require_guest_phone_verification</td>\n",
       "      <td>3818</td>\n",
       "      <td>2</td>\n",
       "      <td>0.000524</td>\n",
       "    </tr>\n",
       "  </tbody>\n",
       "</table>\n",
       "</div>"
      ],
      "text/plain": [
       "                                name notna values unique values  \\\n",
       "0                        listing_url         3818          3818   \n",
       "8                      thumbnail_url         3498          3498   \n",
       "10                       picture_url         3818          3818   \n",
       "9                         medium_url         3498          3498   \n",
       "11                    xl_picture_url         3498          3498   \n",
       "1                               name         3818          3792   \n",
       "4                        description         3818          3742   \n",
       "3                              space         3249          3119   \n",
       "2                            summary         3641          3478   \n",
       "6                              notes         2212          1999   \n",
       "5              neighborhood_overview         2786          2506   \n",
       "7                            transit         2884          2574   \n",
       "37                         amenities         3818          3284   \n",
       "12                          host_url         3818          2751   \n",
       "19                host_thumbnail_url         3816          2743   \n",
       "20                  host_picture_url         3816          2743   \n",
       "16                        host_about         2959          2011   \n",
       "13                         host_name         3816          1466   \n",
       "25                            street         3818          1442   \n",
       "14                        host_since         3816          1380   \n",
       "39                      first_review         3191           984   \n",
       "40                       last_review         3191           321   \n",
       "15                     host_location         3810           120   \n",
       "22                host_verifications         3818           116   \n",
       "21                host_neighbourhood         3518           102   \n",
       "26                     neighbourhood         3402            81   \n",
       "27            neighbourhood_cleansed         3818            87   \n",
       "38                  calendar_updated         3818            34   \n",
       "31                           zipcode         3811            28   \n",
       "28      neighbourhood_group_cleansed         3818            17   \n",
       "34                     property_type         3817            16   \n",
       "29                              city         3818             7   \n",
       "32                    smart_location         3818             7   \n",
       "36                          bed_type         3818             5   \n",
       "17                host_response_time         3295             4   \n",
       "42               cancellation_policy         3818             3   \n",
       "35                         room_type         3818             3   \n",
       "18                 host_is_superhost         3816             2   \n",
       "24            host_identity_verified         3816             2   \n",
       "23              host_has_profile_pic         3816             2   \n",
       "33                 is_location_exact         3818             2   \n",
       "41                  instant_bookable         3818             2   \n",
       "30                             state         3818             2   \n",
       "43     require_guest_profile_picture         3818             2   \n",
       "44  require_guest_phone_verification         3818             2   \n",
       "\n",
       "    percent unique values  \n",
       "0                1.000000  \n",
       "8                1.000000  \n",
       "10               1.000000  \n",
       "9                1.000000  \n",
       "11               1.000000  \n",
       "1                0.993190  \n",
       "4                0.980094  \n",
       "3                0.959988  \n",
       "2                0.955232  \n",
       "6                0.903707  \n",
       "5                0.899497  \n",
       "7                0.892510  \n",
       "37               0.860136  \n",
       "12               0.720534  \n",
       "19               0.718816  \n",
       "20               0.718816  \n",
       "16               0.679621  \n",
       "13               0.384172  \n",
       "25               0.377685  \n",
       "14               0.361635  \n",
       "39               0.308367  \n",
       "40               0.100595  \n",
       "15               0.031496  \n",
       "22               0.030382  \n",
       "21               0.028994  \n",
       "26               0.023810  \n",
       "27               0.022787  \n",
       "38               0.008905  \n",
       "31               0.007347  \n",
       "28               0.004453  \n",
       "34               0.004192  \n",
       "29               0.001833  \n",
       "32               0.001833  \n",
       "36               0.001310  \n",
       "17               0.001214  \n",
       "42               0.000786  \n",
       "35               0.000786  \n",
       "18               0.000524  \n",
       "24               0.000524  \n",
       "23               0.000524  \n",
       "33               0.000524  \n",
       "41               0.000524  \n",
       "30               0.000524  \n",
       "43               0.000524  \n",
       "44               0.000524  "
      ]
     },
     "execution_count": 16,
     "metadata": {},
     "output_type": "execute_result"
    }
   ],
   "source": [
    "show_value_proportion(df, 'object')"
   ]
  },
  {
   "cell_type": "markdown",
   "id": "415a1ee5",
   "metadata": {},
   "source": [
    "From the table above we can see a lot of features that have a more than 50 unique values in a column. What does that mean and can I remove these columns? \n",
    "\n",
    "There are 5 \"\\_url\" columns that contains only unique values and also there are 3 more \"host\\_somethin\\_url\" features.  Most of the features contains names, descriptions, somekind of complex information, which must be more analysed in order to collect data to train a model.\n",
    "\n",
    "There is one special column, that I prefer to handle in a special way. In column \"host_verifications\" is a list of possible ways a host can verify something. \n",
    "\n",
    "This needs 3 steps:"
   ]
  },
  {
   "cell_type": "code",
   "execution_count": 17,
   "id": "0725edca",
   "metadata": {},
   "outputs": [
    {
     "data": {
      "text/plain": [
       "0                 ['email', 'phone', 'reviews', 'kba']\n",
       "1    ['email', 'phone', 'facebook', 'linkedin', 're...\n",
       "2     ['email', 'phone', 'google', 'reviews', 'jumio']\n",
       "3    ['email', 'phone', 'facebook', 'reviews', 'jum...\n",
       "4     ['email', 'phone', 'facebook', 'reviews', 'kba']\n",
       "Name: host_verifications, dtype: object"
      ]
     },
     "execution_count": 17,
     "metadata": {},
     "output_type": "execute_result"
    }
   ],
   "source": [
    "df['host_verifications'].head()"
   ]
  },
  {
   "cell_type": "markdown",
   "id": "58721dc2",
   "metadata": {},
   "source": [
    "Step 1: replace some characters"
   ]
  },
  {
   "cell_type": "code",
   "execution_count": 18,
   "id": "b2034f8e",
   "metadata": {},
   "outputs": [
    {
     "data": {
      "text/plain": [
       "0                        email,phone,reviews,kba\n",
       "1    email,phone,facebook,linkedin,reviews,jumio\n",
       "2               email,phone,google,reviews,jumio\n",
       "3             email,phone,facebook,reviews,jumio\n",
       "4               email,phone,facebook,reviews,kba\n",
       "Name: host_verifications, dtype: object"
      ]
     },
     "execution_count": 18,
     "metadata": {},
     "output_type": "execute_result"
    }
   ],
   "source": [
    "df['host_verifications'] = df['host_verifications'].replace({'\\[':'', '\\]': '', '\\'': '', ' ': ''}, regex=True).astype(str)\n",
    "df['host_verifications'].head()"
   ]
  },
  {
   "cell_type": "markdown",
   "id": "2672f26d",
   "metadata": {},
   "source": [
    "Step 2: create a dummy dataframe for the Series with prefix"
   ]
  },
  {
   "cell_type": "code",
   "execution_count": 19,
   "id": "93208473",
   "metadata": {
    "scrolled": true
   },
   "outputs": [
    {
     "name": "stdout",
     "output_type": "stream",
     "text": [
      "Shape of df_host_verifications (3818, 15)\n"
     ]
    },
    {
     "data": {
      "text/html": [
       "<div>\n",
       "<style scoped>\n",
       "    .dataframe tbody tr th:only-of-type {\n",
       "        vertical-align: middle;\n",
       "    }\n",
       "\n",
       "    .dataframe tbody tr th {\n",
       "        vertical-align: top;\n",
       "    }\n",
       "\n",
       "    .dataframe thead th {\n",
       "        text-align: right;\n",
       "    }\n",
       "</style>\n",
       "<table border=\"1\" class=\"dataframe\">\n",
       "  <thead>\n",
       "    <tr style=\"text-align: right;\">\n",
       "      <th></th>\n",
       "      <th>host_verification_None</th>\n",
       "      <th>host_verification_amex</th>\n",
       "      <th>host_verification_email</th>\n",
       "      <th>host_verification_facebook</th>\n",
       "      <th>host_verification_google</th>\n",
       "      <th>host_verification_jumio</th>\n",
       "      <th>host_verification_kba</th>\n",
       "      <th>host_verification_linkedin</th>\n",
       "      <th>host_verification_manual_offline</th>\n",
       "      <th>host_verification_manual_online</th>\n",
       "      <th>host_verification_phone</th>\n",
       "      <th>host_verification_photographer</th>\n",
       "      <th>host_verification_reviews</th>\n",
       "      <th>host_verification_sent_id</th>\n",
       "      <th>host_verification_weibo</th>\n",
       "    </tr>\n",
       "  </thead>\n",
       "  <tbody>\n",
       "    <tr>\n",
       "      <th>0</th>\n",
       "      <td>0</td>\n",
       "      <td>0</td>\n",
       "      <td>1</td>\n",
       "      <td>0</td>\n",
       "      <td>0</td>\n",
       "      <td>0</td>\n",
       "      <td>1</td>\n",
       "      <td>0</td>\n",
       "      <td>0</td>\n",
       "      <td>0</td>\n",
       "      <td>1</td>\n",
       "      <td>0</td>\n",
       "      <td>1</td>\n",
       "      <td>0</td>\n",
       "      <td>0</td>\n",
       "    </tr>\n",
       "    <tr>\n",
       "      <th>1</th>\n",
       "      <td>0</td>\n",
       "      <td>0</td>\n",
       "      <td>1</td>\n",
       "      <td>1</td>\n",
       "      <td>0</td>\n",
       "      <td>1</td>\n",
       "      <td>0</td>\n",
       "      <td>1</td>\n",
       "      <td>0</td>\n",
       "      <td>0</td>\n",
       "      <td>1</td>\n",
       "      <td>0</td>\n",
       "      <td>1</td>\n",
       "      <td>0</td>\n",
       "      <td>0</td>\n",
       "    </tr>\n",
       "    <tr>\n",
       "      <th>2</th>\n",
       "      <td>0</td>\n",
       "      <td>0</td>\n",
       "      <td>1</td>\n",
       "      <td>0</td>\n",
       "      <td>1</td>\n",
       "      <td>1</td>\n",
       "      <td>0</td>\n",
       "      <td>0</td>\n",
       "      <td>0</td>\n",
       "      <td>0</td>\n",
       "      <td>1</td>\n",
       "      <td>0</td>\n",
       "      <td>1</td>\n",
       "      <td>0</td>\n",
       "      <td>0</td>\n",
       "    </tr>\n",
       "    <tr>\n",
       "      <th>3</th>\n",
       "      <td>0</td>\n",
       "      <td>0</td>\n",
       "      <td>1</td>\n",
       "      <td>1</td>\n",
       "      <td>0</td>\n",
       "      <td>1</td>\n",
       "      <td>0</td>\n",
       "      <td>0</td>\n",
       "      <td>0</td>\n",
       "      <td>0</td>\n",
       "      <td>1</td>\n",
       "      <td>0</td>\n",
       "      <td>1</td>\n",
       "      <td>0</td>\n",
       "      <td>0</td>\n",
       "    </tr>\n",
       "    <tr>\n",
       "      <th>4</th>\n",
       "      <td>0</td>\n",
       "      <td>0</td>\n",
       "      <td>1</td>\n",
       "      <td>1</td>\n",
       "      <td>0</td>\n",
       "      <td>0</td>\n",
       "      <td>1</td>\n",
       "      <td>0</td>\n",
       "      <td>0</td>\n",
       "      <td>0</td>\n",
       "      <td>1</td>\n",
       "      <td>0</td>\n",
       "      <td>1</td>\n",
       "      <td>0</td>\n",
       "      <td>0</td>\n",
       "    </tr>\n",
       "  </tbody>\n",
       "</table>\n",
       "</div>"
      ],
      "text/plain": [
       "   host_verification_None  host_verification_amex  host_verification_email  \\\n",
       "0                       0                       0                        1   \n",
       "1                       0                       0                        1   \n",
       "2                       0                       0                        1   \n",
       "3                       0                       0                        1   \n",
       "4                       0                       0                        1   \n",
       "\n",
       "   host_verification_facebook  host_verification_google  \\\n",
       "0                           0                         0   \n",
       "1                           1                         0   \n",
       "2                           0                         1   \n",
       "3                           1                         0   \n",
       "4                           1                         0   \n",
       "\n",
       "   host_verification_jumio  host_verification_kba  host_verification_linkedin  \\\n",
       "0                        0                      1                           0   \n",
       "1                        1                      0                           1   \n",
       "2                        1                      0                           0   \n",
       "3                        1                      0                           0   \n",
       "4                        0                      1                           0   \n",
       "\n",
       "   host_verification_manual_offline  host_verification_manual_online  \\\n",
       "0                                 0                                0   \n",
       "1                                 0                                0   \n",
       "2                                 0                                0   \n",
       "3                                 0                                0   \n",
       "4                                 0                                0   \n",
       "\n",
       "   host_verification_phone  host_verification_photographer  \\\n",
       "0                        1                               0   \n",
       "1                        1                               0   \n",
       "2                        1                               0   \n",
       "3                        1                               0   \n",
       "4                        1                               0   \n",
       "\n",
       "   host_verification_reviews  host_verification_sent_id  \\\n",
       "0                          1                          0   \n",
       "1                          1                          0   \n",
       "2                          1                          0   \n",
       "3                          1                          0   \n",
       "4                          1                          0   \n",
       "\n",
       "   host_verification_weibo  \n",
       "0                        0  \n",
       "1                        0  \n",
       "2                        0  \n",
       "3                        0  \n",
       "4                        0  "
      ]
     },
     "execution_count": 19,
     "metadata": {},
     "output_type": "execute_result"
    }
   ],
   "source": [
    "df_host_verifications = df['host_verifications'].str.get_dummies(sep=',').add_prefix('host_verification_')\n",
    "print(\"Shape of df_host_verifications\", df_host_verifications.shape)\n",
    "df_host_verifications.head()"
   ]
  },
  {
   "cell_type": "markdown",
   "id": "b7598b7a",
   "metadata": {},
   "source": [
    "Step 3: Concat the 2 DataFrames \n",
    "\n",
    "Doing this adds 15 new columns to the dataset. If I had handled this column with get_dummies() there would be 116 columns instead."
   ]
  },
  {
   "cell_type": "code",
   "execution_count": 20,
   "id": "9f500e95",
   "metadata": {},
   "outputs": [],
   "source": [
    "df = pd.concat([df, df_host_verifications], axis=1)"
   ]
  },
  {
   "cell_type": "markdown",
   "id": "e4115670",
   "metadata": {},
   "source": [
    "I decided to remove all columns that have more than 50 unique values, because there is not much information to find any connection in the dataset."
   ]
  },
  {
   "cell_type": "code",
   "execution_count": 21,
   "id": "2ebb4c79",
   "metadata": {},
   "outputs": [],
   "source": [
    "categorical_df = show_value_proportion(df, 'object')\n",
    "drop_too_unique_columns = categorical_df[categorical_df['unique values'] > 50]['name']\n",
    "df.drop(columns=drop_too_unique_columns, inplace=True)"
   ]
  },
  {
   "cell_type": "markdown",
   "id": "854ca961",
   "metadata": {},
   "source": [
    "All other categorical features will be prepared for the dataset by introducing dummy variables for them.\n"
   ]
  },
  {
   "cell_type": "code",
   "execution_count": 22,
   "id": "d4fca16d",
   "metadata": {},
   "outputs": [],
   "source": [
    "df = pd.get_dummies(df, drop_first=True)"
   ]
  },
  {
   "cell_type": "markdown",
   "id": "1ccd080f",
   "metadata": {},
   "source": [
    "Now lets have a look at the numeric features. There is one column called \"square_feet\", that has only 2.5% of data. I decided also to drop this column, because filling 97.5% of a column with calculated data does not feel very comfortable. \n",
    "\n",
    "Also Column \"host_acceptance_rate\" has just one value 0 and more than 3000 values are 100. Filling missing data with the mean, which is 99.9 there are just values around 100 except one value. I will also drop that column.\n",
    "\n",
    "As \"host_listings_count\" and \"host_total_listings_count\" are equal one of them can be removed.\n",
    "\n",
    "Because I want to predict the price I don't need the weekly_price or the monthly_price. "
   ]
  },
  {
   "cell_type": "code",
   "execution_count": 23,
   "id": "f06457f4",
   "metadata": {},
   "outputs": [
    {
     "data": {
      "text/plain": [
       "count      97.000000\n",
       "mean      854.618557\n",
       "std       671.404893\n",
       "min         0.000000\n",
       "25%       420.000000\n",
       "50%       750.000000\n",
       "75%      1200.000000\n",
       "max      3000.000000\n",
       "Name: square_feet, dtype: float64"
      ]
     },
     "execution_count": 23,
     "metadata": {},
     "output_type": "execute_result"
    }
   ],
   "source": [
    "df['square_feet'].describe()"
   ]
  },
  {
   "cell_type": "code",
   "execution_count": 24,
   "id": "55e00d9e",
   "metadata": {},
   "outputs": [
    {
     "data": {
      "text/plain": [
       "100.0    3044\n",
       "0.0         1\n",
       "Name: host_acceptance_rate, dtype: int64"
      ]
     },
     "execution_count": 24,
     "metadata": {},
     "output_type": "execute_result"
    }
   ],
   "source": [
    "df['host_acceptance_rate'].value_counts()"
   ]
  },
  {
   "cell_type": "code",
   "execution_count": 25,
   "id": "5d9f6b3a",
   "metadata": {},
   "outputs": [
    {
     "data": {
      "text/html": [
       "<div>\n",
       "<style scoped>\n",
       "    .dataframe tbody tr th:only-of-type {\n",
       "        vertical-align: middle;\n",
       "    }\n",
       "\n",
       "    .dataframe tbody tr th {\n",
       "        vertical-align: top;\n",
       "    }\n",
       "\n",
       "    .dataframe thead th {\n",
       "        text-align: right;\n",
       "    }\n",
       "</style>\n",
       "<table border=\"1\" class=\"dataframe\">\n",
       "  <thead>\n",
       "    <tr style=\"text-align: right;\">\n",
       "      <th></th>\n",
       "      <th>host_listings_count</th>\n",
       "      <th>host_total_listings_count</th>\n",
       "    </tr>\n",
       "  </thead>\n",
       "  <tbody>\n",
       "    <tr>\n",
       "      <th>count</th>\n",
       "      <td>3816.000000</td>\n",
       "      <td>3816.000000</td>\n",
       "    </tr>\n",
       "    <tr>\n",
       "      <th>mean</th>\n",
       "      <td>7.157757</td>\n",
       "      <td>7.157757</td>\n",
       "    </tr>\n",
       "    <tr>\n",
       "      <th>std</th>\n",
       "      <td>28.628149</td>\n",
       "      <td>28.628149</td>\n",
       "    </tr>\n",
       "    <tr>\n",
       "      <th>min</th>\n",
       "      <td>1.000000</td>\n",
       "      <td>1.000000</td>\n",
       "    </tr>\n",
       "    <tr>\n",
       "      <th>25%</th>\n",
       "      <td>1.000000</td>\n",
       "      <td>1.000000</td>\n",
       "    </tr>\n",
       "    <tr>\n",
       "      <th>50%</th>\n",
       "      <td>1.000000</td>\n",
       "      <td>1.000000</td>\n",
       "    </tr>\n",
       "    <tr>\n",
       "      <th>75%</th>\n",
       "      <td>3.000000</td>\n",
       "      <td>3.000000</td>\n",
       "    </tr>\n",
       "    <tr>\n",
       "      <th>max</th>\n",
       "      <td>502.000000</td>\n",
       "      <td>502.000000</td>\n",
       "    </tr>\n",
       "  </tbody>\n",
       "</table>\n",
       "</div>"
      ],
      "text/plain": [
       "       host_listings_count  host_total_listings_count\n",
       "count          3816.000000                3816.000000\n",
       "mean              7.157757                   7.157757\n",
       "std              28.628149                  28.628149\n",
       "min               1.000000                   1.000000\n",
       "25%               1.000000                   1.000000\n",
       "50%               1.000000                   1.000000\n",
       "75%               3.000000                   3.000000\n",
       "max             502.000000                 502.000000"
      ]
     },
     "execution_count": 25,
     "metadata": {},
     "output_type": "execute_result"
    }
   ],
   "source": [
    "df[['host_listings_count', 'host_total_listings_count']].describe()"
   ]
  },
  {
   "cell_type": "code",
   "execution_count": 26,
   "id": "c74dea8e",
   "metadata": {},
   "outputs": [],
   "source": [
    "numeric_columns_to_drop = ['square_feet', 'host_acceptance_rate', 'host_total_listings_count', 'weekly_price', 'monthly_price']\n",
    "df.drop(columns=numeric_columns_to_drop, inplace=True)"
   ]
  },
  {
   "cell_type": "code",
   "execution_count": 27,
   "id": "d6e7c344",
   "metadata": {},
   "outputs": [
    {
     "data": {
      "text/plain": [
       "8735"
      ]
     },
     "execution_count": 27,
     "metadata": {},
     "output_type": "execute_result"
    }
   ],
   "source": [
    "df.isna().sum().sum()"
   ]
  },
  {
   "cell_type": "markdown",
   "id": "6ee2e9a0",
   "metadata": {},
   "source": [
    "Last step in my preparation of the dataset is to fill the NaNs with the mean. "
   ]
  },
  {
   "cell_type": "code",
   "execution_count": 28,
   "id": "c4db7077",
   "metadata": {},
   "outputs": [
    {
     "data": {
      "text/plain": [
       "0"
      ]
     },
     "execution_count": 28,
     "metadata": {},
     "output_type": "execute_result"
    }
   ],
   "source": [
    "df.fillna(value=df.mean(), inplace=True)\n",
    "df.isna().sum().sum()"
   ]
  },
  {
   "cell_type": "markdown",
   "id": "9956588f",
   "metadata": {},
   "source": [
    "# Data Modeling\n",
    "\n",
    "#### Find the influencer\n",
    "\n",
    "With a well prepared dataset I can search for the features that influences the price at most. Here is my idea. Since this whole dataset is small enough I can train a model for each feature and see the impact of that feature directly. The higher the r2 score for a feature the more impact has the feature on my predicted feature."
   ]
  },
  {
   "cell_type": "code",
   "execution_count": 29,
   "id": "806acebe",
   "metadata": {},
   "outputs": [],
   "source": [
    "def find_influencing_features(df, col_predict):\n",
    "    '''\n",
    "    INPUT:\n",
    "    df - DataFrame \n",
    "    col_pred - name of the column, that will be predicted\n",
    "    \n",
    "    OUTPUT:\n",
    "    DataFrame that shows the impact of a feature in the dataframe on the predicted column using the r2_score\n",
    "    '''\n",
    "    columns = df.drop(columns=[col_predict], axis=1).columns\n",
    "    y = df[col_predict]\n",
    "    \n",
    "    df_impact = pd.DataFrame()\n",
    "    \n",
    "    for col in columns:\n",
    "        X = df[[col]]\n",
    "        \n",
    "        #Split into train and test dataset\n",
    "        X_train, X_test, y_train, y_test = train_test_split(X, y, test_size = .20, random_state=42) \n",
    "\n",
    "        # Instantiate the model with normalization\n",
    "        lm_model = LinearRegression(normalize=True)\n",
    "\n",
    "        # Fit the model with the train dataset\n",
    "        lm_model.fit(X_train, y_train)\n",
    "\n",
    "        #Predict and score the model\n",
    "        y_train_preds = lm_model.predict(X_train) \n",
    "        y_test_preds = lm_model.predict(X_test) \n",
    "        \n",
    "        df_impact = df_impact.append({\n",
    "            'feature': col,\n",
    "            'r2_train': r2_score(y_train, y_train_preds),\n",
    "            'r2_test': r2_score(y_test, y_test_preds)\n",
    "        }, ignore_index=True)\n",
    "        \n",
    "    df_impact = df_impact.sort_values(by=['r2_test'], ascending=False)\n",
    "    return df_impact\n",
    "    "
   ]
  },
  {
   "cell_type": "code",
   "execution_count": 30,
   "id": "fd22ffce",
   "metadata": {},
   "outputs": [],
   "source": [
    "df_influencer = find_influencing_features(df, 'price')"
   ]
  },
  {
   "cell_type": "code",
   "execution_count": 31,
   "id": "83cd5c34",
   "metadata": {},
   "outputs": [
    {
     "data": {
      "image/png": "[encoded data removed]",
      "text/plain": [
       "<Figure size 432x288 with 1 Axes>"
      ]
     },
     "metadata": {
      "needs_background": "light"
     },
     "output_type": "display_data"
    }
   ],
   "source": [
    "df_influencer.head(20).plot(x='feature', kind='bar', legend=True);"
   ]
  },
  {
   "cell_type": "markdown",
   "id": "9951b35a",
   "metadata": {},
   "source": [
    "### Answer: Which features influence the price at most?\n",
    "\n",
    "The plot above shows that the number of accommodates, bedrooms, beds and bathrooms and also if there is a cleaning fee influences the price at most. Also an effect has the room type and the location of the accommodation, since all the neighbourhood, zipcodes or even the longitude are part of the bigger picture \"location of the accommodation\".\n",
    "\n",
    "There are 66 feature that have a positive r2 score on the test data. Lets see how a combination of these features will work on a model and how many features contains the best model."
   ]
  },
  {
   "cell_type": "code",
   "execution_count": 32,
   "id": "b455fb42",
   "metadata": {},
   "outputs": [],
   "source": [
    "def find_optimal_lm_mod(df, y, influencers, test_size = .30, random_state=42, plot=True):\n",
    "    '''\n",
    "    INPUT\n",
    "    df - pandas dataframe\n",
    "    y - pandas dataframe, response variable\n",
    "    influencers - sorted list of column names, the have the most impact \n",
    "    test_size - float between 0 and 1, default 0.3, determines the proportion of data as test data\n",
    "    random_state - int, default 42, controls random state for train_test_split\n",
    "    plot - boolean, default 0.3, True to plot result\n",
    "\n",
    "    OUTPUT\n",
    "    r2_scores_test - list of floats of r2 scores on the test data\n",
    "    r2_scores_train - list of floats of r2 scores on the train data\n",
    "    lm_model - model object from sklearn\n",
    "    X_train, X_test, y_train, y_test - output from sklearn train test split used for optimal model\n",
    "    '''\n",
    "    r2_scores_test, r2_scores_train, num_feats, results = [], [], [], dict()\n",
    "    for number_of_influencer in range(influencers.size):\n",
    "\n",
    "        #reduce X matrix\n",
    "        reduce_X = df[influencers[:number_of_influencer+1].values]\n",
    "        num_feats.append(reduce_X.shape[1])\n",
    "\n",
    "        #split the data into train and test\n",
    "        X_train, X_test, y_train, y_test = train_test_split(reduce_X, y, test_size = test_size, random_state=random_state)\n",
    "\n",
    "        #fit the model and obtain pred response\n",
    "        lm_model = LinearRegression(normalize=True)\n",
    "        lm_model.fit(X_train, y_train)\n",
    "        y_test_preds = lm_model.predict(X_test)\n",
    "        y_train_preds = lm_model.predict(X_train)\n",
    "\n",
    "        #append the r2 value from the test set\n",
    "        r2_scores_test.append(r2_score(y_test, y_test_preds))\n",
    "        r2_scores_train.append(r2_score(y_train, y_train_preds))\n",
    "        results[number_of_influencer] = r2_score(y_test, y_test_preds)\n",
    "\n",
    "    if plot:\n",
    "        plt.plot(num_feats, r2_scores_test, label=\"Test\", alpha=.5)\n",
    "        plt.plot(num_feats, r2_scores_train, label=\"Train\", alpha=.5)\n",
    "        plt.xlabel('Number of features')\n",
    "        plt.ylabel('Rsquared')\n",
    "        plt.title('Rsquared by number of sorted influencers')\n",
    "        plt.legend(loc=0)\n",
    "        plt.show()\n",
    "\n",
    "    best_cutoff = max(results, key=results.get)\n",
    "\n",
    "    #reduce X matrix\n",
    "    reduce_X = df[influencers[:best_cutoff+1].values]\n",
    "    num_feats.append(reduce_X.shape[1])\n",
    "\n",
    "    #split the data into train and test\n",
    "    X_train, X_test, y_train, y_test = train_test_split(reduce_X, y, test_size = test_size, random_state=random_state)\n",
    "\n",
    "    #fit the model\n",
    "    lm_model = LinearRegression(normalize=True)\n",
    "    lm_model.fit(X_train, y_train)\n",
    "\n",
    "    return r2_scores_test, r2_scores_train, lm_model, X_train, X_test, y_train, y_test"
   ]
  },
  {
   "cell_type": "code",
   "execution_count": 33,
   "id": "0f15258c",
   "metadata": {},
   "outputs": [
    {
     "data": {
      "image/png": "[encoded data removed]",
      "text/plain": [
       "<Figure size 432x288 with 1 Axes>"
      ]
     },
     "metadata": {
      "needs_background": "light"
     },
     "output_type": "display_data"
    }
   ],
   "source": [
    "y = df['price']\n",
    "influencers = df_influencer['feature'].head(90)\n",
    "#Run this cell to pass your X and y to the model for testing\n",
    "r2_scores_test, r2_scores_train, lm_model, X_train, X_test, y_train, y_test = find_optimal_lm_mod(df, y, influencers)"
   ]
  },
  {
   "cell_type": "markdown",
   "id": "00bfc8b2",
   "metadata": {},
   "source": [
    "Check the number of features in the best model."
   ]
  },
  {
   "cell_type": "code",
   "execution_count": 34,
   "id": "4dc4df23",
   "metadata": {},
   "outputs": [
    {
     "data": {
      "text/plain": [
       "66"
      ]
     },
     "execution_count": 34,
     "metadata": {},
     "output_type": "execute_result"
    }
   ],
   "source": [
    "lm_model.n_features_in_"
   ]
  },
  {
   "cell_type": "markdown",
   "id": "5ce57a04",
   "metadata": {},
   "source": [
    "Get the r-squared score for the test dataset on the best model."
   ]
  },
  {
   "cell_type": "code",
   "execution_count": 35,
   "id": "0e2e530c",
   "metadata": {},
   "outputs": [
    {
     "data": {
      "text/plain": [
       "0.6042047840605336"
      ]
     },
     "execution_count": 35,
     "metadata": {},
     "output_type": "execute_result"
    }
   ],
   "source": [
    "lm_model.score(X_test, y_test)"
   ]
  },
  {
   "cell_type": "markdown",
   "id": "dbdf6f02",
   "metadata": {},
   "source": [
    "# Evaluate the Results\n",
    "\n",
    "The best model also contains 66 features, which are the features that have a positive r2 score. We can also see, that the first 15 most influencing properties build a r2 score of 0.579 for the test dataset. The best model with 66 features has only a slightly higher score with 0.604. That means improving the score by 0.025 points it needs 51 features more in the model. "
   ]
  },
  {
   "cell_type": "code",
   "execution_count": 36,
   "id": "c174aa14",
   "metadata": {},
   "outputs": [
    {
     "data": {
      "text/html": [
       "<div>\n",
       "<style scoped>\n",
       "    .dataframe tbody tr th:only-of-type {\n",
       "        vertical-align: middle;\n",
       "    }\n",
       "\n",
       "    .dataframe tbody tr th {\n",
       "        vertical-align: top;\n",
       "    }\n",
       "\n",
       "    .dataframe thead th {\n",
       "        text-align: right;\n",
       "    }\n",
       "</style>\n",
       "<table border=\"1\" class=\"dataframe\">\n",
       "  <thead>\n",
       "    <tr style=\"text-align: right;\">\n",
       "      <th></th>\n",
       "      <th>est_int</th>\n",
       "      <th>coefs</th>\n",
       "      <th>abs_coefs</th>\n",
       "    </tr>\n",
       "  </thead>\n",
       "  <tbody>\n",
       "    <tr>\n",
       "      <th>12</th>\n",
       "      <td>longitude</td>\n",
       "      <td>109.997274</td>\n",
       "      <td>109.997274</td>\n",
       "    </tr>\n",
       "    <tr>\n",
       "      <th>57</th>\n",
       "      <td>property_type_Dorm</td>\n",
       "      <td>-63.088020</td>\n",
       "      <td>63.088020</td>\n",
       "    </tr>\n",
       "    <tr>\n",
       "      <th>10</th>\n",
       "      <td>room_type_Shared room</td>\n",
       "      <td>-60.130698</td>\n",
       "      <td>60.130698</td>\n",
       "    </tr>\n",
       "    <tr>\n",
       "      <th>24</th>\n",
       "      <td>neighbourhood_group_cleansed_Downtown</td>\n",
       "      <td>29.717269</td>\n",
       "      <td>29.717269</td>\n",
       "    </tr>\n",
       "    <tr>\n",
       "      <th>25</th>\n",
       "      <td>neighbourhood_group_cleansed_Northgate</td>\n",
       "      <td>-28.544012</td>\n",
       "      <td>28.544012</td>\n",
       "    </tr>\n",
       "    <tr>\n",
       "      <th>16</th>\n",
       "      <td>neighbourhood_group_cleansed_Magnolia</td>\n",
       "      <td>28.506549</td>\n",
       "      <td>28.506549</td>\n",
       "    </tr>\n",
       "    <tr>\n",
       "      <th>6</th>\n",
       "      <td>room_type_Private room</td>\n",
       "      <td>-28.175360</td>\n",
       "      <td>28.175360</td>\n",
       "    </tr>\n",
       "    <tr>\n",
       "      <th>46</th>\n",
       "      <td>neighbourhood_group_cleansed_Lake City</td>\n",
       "      <td>-23.522964</td>\n",
       "      <td>23.522964</td>\n",
       "    </tr>\n",
       "    <tr>\n",
       "      <th>4</th>\n",
       "      <td>bathrooms</td>\n",
       "      <td>23.379167</td>\n",
       "      <td>23.379167</td>\n",
       "    </tr>\n",
       "    <tr>\n",
       "      <th>22</th>\n",
       "      <td>zipcode_98144</td>\n",
       "      <td>-22.818180</td>\n",
       "      <td>22.818180</td>\n",
       "    </tr>\n",
       "    <tr>\n",
       "      <th>1</th>\n",
       "      <td>bedrooms</td>\n",
       "      <td>22.599730</td>\n",
       "      <td>22.599730</td>\n",
       "    </tr>\n",
       "    <tr>\n",
       "      <th>26</th>\n",
       "      <td>neighbourhood_group_cleansed_Rainier Valley</td>\n",
       "      <td>-21.572091</td>\n",
       "      <td>21.572091</td>\n",
       "    </tr>\n",
       "    <tr>\n",
       "      <th>19</th>\n",
       "      <td>zipcode_98119</td>\n",
       "      <td>20.016219</td>\n",
       "      <td>20.016219</td>\n",
       "    </tr>\n",
       "    <tr>\n",
       "      <th>34</th>\n",
       "      <td>calendar_updated_2 days ago</td>\n",
       "      <td>-19.962715</td>\n",
       "      <td>19.962715</td>\n",
       "    </tr>\n",
       "    <tr>\n",
       "      <th>51</th>\n",
       "      <td>host_verification_email</td>\n",
       "      <td>-15.608789</td>\n",
       "      <td>15.608789</td>\n",
       "    </tr>\n",
       "    <tr>\n",
       "      <th>36</th>\n",
       "      <td>neighbourhood_group_cleansed_University District</td>\n",
       "      <td>-15.201948</td>\n",
       "      <td>15.201948</td>\n",
       "    </tr>\n",
       "    <tr>\n",
       "      <th>64</th>\n",
       "      <td>neighbourhood_group_cleansed_Cascade</td>\n",
       "      <td>14.526551</td>\n",
       "      <td>14.526551</td>\n",
       "    </tr>\n",
       "    <tr>\n",
       "      <th>33</th>\n",
       "      <td>zipcode_98106</td>\n",
       "      <td>-14.185154</td>\n",
       "      <td>14.185154</td>\n",
       "    </tr>\n",
       "    <tr>\n",
       "      <th>17</th>\n",
       "      <td>calendar_updated_today</td>\n",
       "      <td>-13.631862</td>\n",
       "      <td>13.631862</td>\n",
       "    </tr>\n",
       "    <tr>\n",
       "      <th>45</th>\n",
       "      <td>calendar_updated_yesterday</td>\n",
       "      <td>-13.430498</td>\n",
       "      <td>13.430498</td>\n",
       "    </tr>\n",
       "  </tbody>\n",
       "</table>\n",
       "</div>"
      ],
      "text/plain": [
       "                                             est_int       coefs   abs_coefs\n",
       "12                                         longitude  109.997274  109.997274\n",
       "57                                property_type_Dorm  -63.088020   63.088020\n",
       "10                             room_type_Shared room  -60.130698   60.130698\n",
       "24             neighbourhood_group_cleansed_Downtown   29.717269   29.717269\n",
       "25            neighbourhood_group_cleansed_Northgate  -28.544012   28.544012\n",
       "16             neighbourhood_group_cleansed_Magnolia   28.506549   28.506549\n",
       "6                             room_type_Private room  -28.175360   28.175360\n",
       "46            neighbourhood_group_cleansed_Lake City  -23.522964   23.522964\n",
       "4                                          bathrooms   23.379167   23.379167\n",
       "22                                     zipcode_98144  -22.818180   22.818180\n",
       "1                                           bedrooms   22.599730   22.599730\n",
       "26       neighbourhood_group_cleansed_Rainier Valley  -21.572091   21.572091\n",
       "19                                     zipcode_98119   20.016219   20.016219\n",
       "34                       calendar_updated_2 days ago  -19.962715   19.962715\n",
       "51                           host_verification_email  -15.608789   15.608789\n",
       "36  neighbourhood_group_cleansed_University District  -15.201948   15.201948\n",
       "64              neighbourhood_group_cleansed_Cascade   14.526551   14.526551\n",
       "33                                     zipcode_98106  -14.185154   14.185154\n",
       "17                            calendar_updated_today  -13.631862   13.631862\n",
       "45                        calendar_updated_yesterday  -13.430498   13.430498"
      ]
     },
     "execution_count": 36,
     "metadata": {},
     "output_type": "execute_result"
    }
   ],
   "source": [
    "def coef_weights(coefficients, X_train):\n",
    "    '''\n",
    "    INPUT:\n",
    "    coefficients - the coefficients of the linear model \n",
    "    X_train - the training data, so the column names can be used\n",
    "    OUTPUT:\n",
    "    coefs_df - a dataframe holding the coefficient, estimate, and abs(estimate)\n",
    "    \n",
    "    Provides a dataframe that can be used to understand the most influential coefficients\n",
    "    in a linear model by providing the coefficient estimates along with the name of the \n",
    "    variable attached to the coefficient.\n",
    "    '''\n",
    "    coefs_df = pd.DataFrame()\n",
    "    coefs_df['est_int'] = X_train.columns\n",
    "    coefs_df['coefs'] = lm_model.coef_\n",
    "    coefs_df['abs_coefs'] = np.abs(lm_model.coef_)\n",
    "    coefs_df = coefs_df.sort_values('abs_coefs', ascending=False)\n",
    "    return coefs_df\n",
    "\n",
    "#Use the function\n",
    "coef_df = coef_weights(lm_model.coef_, X_train)\n",
    "\n",
    "#A quick look at the top results\n",
    "coef_df.head(20)"
   ]
  },
  {
   "cell_type": "markdown",
   "id": "63d0fb76",
   "metadata": {},
   "source": [
    "Looking at the coefficients of the best model confirms the answers given above. Features belonging to the location of a accommodation, the room type and number of bathrooms and bedrooms have the most impact on the prediction of the price."
   ]
  }
 ],
 "metadata": {
  "kernelspec": {
   "display_name": "Python 3",
   "language": "python",
   "name": "python3"
  },
  "language_info": {
   "codemirror_mode": {
    "name": "ipython",
    "version": 3
   },
   "file_extension": ".py",
   "mimetype": "text/x-python",
   "name": "python",
   "nbconvert_exporter": "python",
   "pygments_lexer": "ipython3",
   "version": "3.8.8"
  }
 },
 "nbformat": 4,
 "nbformat_minor": 5
}
